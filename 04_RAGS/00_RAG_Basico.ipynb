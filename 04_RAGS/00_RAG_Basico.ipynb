{
 "cells": [
  {
   "cell_type": "code",
   "execution_count": 1,
   "metadata": {},
   "outputs": [],
   "source": [
    "import os\n",
    "\n",
    "from langchain.text_splitter import CharacterTextSplitter\n",
    "from langchain_community.document_loaders import TextLoader\n",
    "from langchain_chroma import Chroma\n",
    "from langchain_openai import OpenAIEmbeddings\n",
    "\n",
    "# Define the directory containing the text file and the persistent directory\n",
    "current_dir = os.getcwd()\n",
    "file_path = os.path.join(current_dir, \"Libros\", \"odyssey.txt\")\n",
    "persistent_directory = os.path.join(current_dir, \"db\", \"chroma_db\")\n"
   ]
  },
  {
   "cell_type": "code",
   "execution_count": 2,
   "metadata": {},
   "outputs": [
    {
     "name": "stdout",
     "output_type": "stream",
     "text": [
      "Vector store already exists. No need to initialize.\n"
     ]
    }
   ],
   "source": [
    "# Check if the Chroma vector store already exists\n",
    "if not os.path.exists(persistent_directory):\n",
    "    print(\"Persistent directory does not exist. Initializing vector store...\")\n",
    "\n",
    "    # Ensure the text file exists\n",
    "    if not os.path.exists(file_path):\n",
    "        raise FileNotFoundError(\n",
    "            f\"The file {file_path} does not exist. Please check the path.\"\n",
    "        )\n",
    "\n",
    "    # Read the text content from the file\n",
    "    loader = TextLoader(file_path)\n",
    "    documents = loader.load()\n",
    "\n",
    "    # Split the document into chunks\n",
    "    text_splitter = CharacterTextSplitter(chunk_size=1000, chunk_overlap=200)\n",
    "    docs = text_splitter.split_documents(documents)\n",
    "\n",
    "    # Display information about the split documents\n",
    "    print(\"\\n--- Document Chunks Information ---\")\n",
    "    print(f\"Number of document chunks: {len(docs)}\")\n",
    "    print(f\"Sample chunk:\\n{docs[0].page_content}\\n\")\n",
    "\n",
    "    # Create embeddings\n",
    "    print(\"\\n--- Creating embeddings ---\")\n",
    "    embeddings = OpenAIEmbeddings(\n",
    "        model=\"text-embedding-3-small\"\n",
    "    )  # Update to a valid embedding model if needed\n",
    "    print(\"\\n--- Finished creating embeddings ---\")\n",
    "\n",
    "    # Create the vector store and persist it automatically\n",
    "    print(\"\\n--- Creating vector store ---\")\n",
    "    db = Chroma.from_documents(\n",
    "        docs, embeddings, persist_directory=persistent_directory)\n",
    "    print(\"\\n--- Finished creating vector store ---\")\n",
    "\n",
    "else:\n",
    "    print(\"Vector store already exists. No need to initialize.\")\n"
   ]
  },
  {
   "cell_type": "code",
   "execution_count": 3,
   "metadata": {},
   "outputs": [],
   "source": [
    "# Define the embedding model\n",
    "embeddings = OpenAIEmbeddings(model=\"text-embedding-3-small\")"
   ]
  },
  {
   "cell_type": "code",
   "execution_count": 4,
   "metadata": {},
   "outputs": [],
   "source": [
    "# Load the existing vector store with the embedding function\n",
    "db = Chroma(persist_directory=persistent_directory,\n",
    "            embedding_function=embeddings)"
   ]
  },
  {
   "cell_type": "code",
   "execution_count": 5,
   "metadata": {},
   "outputs": [],
   "source": [
    "# Define the user's question\n",
    "query = \"Who is Odysseus' wife?\""
   ]
  },
  {
   "cell_type": "code",
   "execution_count": 6,
   "metadata": {},
   "outputs": [],
   "source": [
    "# Retrieve relevant documents based on the query\n",
    "retriever = db.as_retriever(\n",
    "    search_type=\"similarity_score_threshold\",\n",
    "    search_kwargs={\"k\": 3, \"score_threshold\": 0.3},\n",
    ")\n",
    "relevant_docs = retriever.invoke(query)"
   ]
  },
  {
   "cell_type": "code",
   "execution_count": 7,
   "metadata": {},
   "outputs": [
    {
     "name": "stdout",
     "output_type": "stream",
     "text": [
      "\n",
      "--- Relevant Documents ---\n",
      "Document 1:\n",
      "“Happy Ulysses, son of Laertes,” replied the ghost of Agamemnon, “you\n",
      "are indeed blessed in the possession of a wife endowed with such rare\n",
      "excellence of understanding, and so faithful to her wedded lord as\n",
      "Penelope the daughter of Icarius. The fame, therefore, of her virtue\n",
      "shall never die, and the immortals shall compose a song that shall be\n",
      "welcome to all mankind in honour of the constancy of Penelope. How far\n",
      "otherwise was the wickedness of the daughter of Tyndareus who killed\n",
      "her lawful husband; her song shall be hateful among men, for she has\n",
      "brought disgrace on all womankind even on the good ones.”\n",
      "\n",
      "Source: /media/g/AA89-0893/LangChain_Curso/04_RAGS/Libros/odyssey.txt\n",
      "\n",
      "Document 2:\n",
      "Then Ulysses answered, “Madam, wife of Ulysses, you need not defer your\n",
      "tournament, for Ulysses will return ere ever they can string the bow,\n",
      "handle it how they will, and send their arrows through the iron.”\n",
      "\n",
      "To this Penelope said, “As long, sir, as you will sit here and talk to\n",
      "me, I can have no desire to go to bed. Still, people cannot do\n",
      "permanently without sleep, and heaven has appointed us dwellers on\n",
      "earth a time for all things. I will therefore go upstairs and recline\n",
      "upon that couch which I have never ceased to flood with my tears from\n",
      "the day Ulysses set out for the city with a hateful name.”\n",
      "\n",
      "She then went upstairs to her own room, not alone, but attended by her\n",
      "maidens, and when there, she lamented her dear husband till Minerva\n",
      "shed sweet sleep over her eyelids.\n",
      "\n",
      "\n",
      "BOOK XX\n",
      "\n",
      "Source: /media/g/AA89-0893/LangChain_Curso/04_RAGS/Libros/odyssey.txt\n",
      "\n",
      "Document 3:\n",
      "This was what they said, but they did not know what it was that had\n",
      "been happening. The upper servant Eurynome washed and anointed Ulysses\n",
      "in his own house and gave him a shirt and cloak, while Minerva made him\n",
      "look taller and stronger than before; she also made the hair grow thick\n",
      "on the top of his head, and flow down in curls like hyacinth blossoms;\n",
      "she glorified him about the head and shoulders just as a skilful\n",
      "workman who has studied art of all kinds under Vulcan or Minerva—and\n",
      "his work is full of beauty—enriches a piece of silver plate by gilding\n",
      "it. He came from the bath looking like one of the immortals, and sat\n",
      "down opposite his wife on the seat he had left. “My dear,” said he,\n",
      "“heaven has endowed you with a heart more unyielding than woman ever\n",
      "yet had. No other woman could bear to keep away from her husband when\n",
      "he had come back to her after twenty years of absence, and after having\n",
      "gone through so much. But come, nurse, get a bed ready for me; I will\n",
      "sleep alone, for this woman has a heart as hard as iron.”\n",
      "\n",
      "Source: /media/g/AA89-0893/LangChain_Curso/04_RAGS/Libros/odyssey.txt\n",
      "\n"
     ]
    }
   ],
   "source": [
    "# Display the relevant results with metadata\n",
    "print(\"\\n--- Relevant Documents ---\")\n",
    "for i, doc in enumerate(relevant_docs, 1):\n",
    "    print(f\"Document {i}:\\n{doc.page_content}\\n\")\n",
    "    if doc.metadata:\n",
    "        print(f\"Source: {doc.metadata.get('source', 'Unknown')}\\n\")"
   ]
  },
  {
   "cell_type": "code",
   "execution_count": null,
   "metadata": {},
   "outputs": [],
   "source": []
  }
 ],
 "metadata": {
  "kernelspec": {
   "display_name": "Curso_LC",
   "language": "python",
   "name": "python3"
  },
  "language_info": {
   "codemirror_mode": {
    "name": "ipython",
    "version": 3
   },
   "file_extension": ".py",
   "mimetype": "text/x-python",
   "name": "python",
   "nbconvert_exporter": "python",
   "pygments_lexer": "ipython3",
   "version": "3.12.7"
  }
 },
 "nbformat": 4,
 "nbformat_minor": 2
}
