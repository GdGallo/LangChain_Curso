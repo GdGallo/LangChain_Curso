{
 "cells": [
  {
   "cell_type": "code",
   "execution_count": 1,
   "metadata": {},
   "outputs": [
    {
     "ename": "ModuleNotFoundError",
     "evalue": "No module named 'langchain_google_firestore'",
     "output_type": "error",
     "traceback": [
      "\u001b[0;31m---------------------------------------------------------------------------\u001b[0m",
      "\u001b[0;31mModuleNotFoundError\u001b[0m                       Traceback (most recent call last)",
      "Cell \u001b[0;32mIn[1], line 3\u001b[0m\n\u001b[1;32m      1\u001b[0m \u001b[38;5;28;01mfrom\u001b[39;00m \u001b[38;5;21;01mdotenv\u001b[39;00m \u001b[38;5;28;01mimport\u001b[39;00m load_dotenv\n\u001b[1;32m      2\u001b[0m \u001b[38;5;28;01mfrom\u001b[39;00m \u001b[38;5;21;01mgoogle\u001b[39;00m\u001b[38;5;21;01m.\u001b[39;00m\u001b[38;5;21;01mcloud\u001b[39;00m \u001b[38;5;28;01mimport\u001b[39;00m firestore\n\u001b[0;32m----> 3\u001b[0m \u001b[38;5;28;01mfrom\u001b[39;00m \u001b[38;5;21;01mlangchain_google_firestore\u001b[39;00m \u001b[38;5;28;01mimport\u001b[39;00m FirestoreChatMessageHistory\n\u001b[1;32m      4\u001b[0m \u001b[38;5;28;01mfrom\u001b[39;00m \u001b[38;5;21;01mlangchain_openai\u001b[39;00m \u001b[38;5;28;01mimport\u001b[39;00m ChatOpenAI\n\u001b[1;32m      6\u001b[0m \u001b[38;5;66;03m# Cargar las variables de entorno\u001b[39;00m\n",
      "\u001b[0;31mModuleNotFoundError\u001b[0m: No module named 'langchain_google_firestore'"
     ]
    }
   ],
   "source": [
    "from dotenv import load_dotenv\n",
    "from google.cloud import firestore\n",
    "from langchain_google_firestore import FirestoreChatMessageHistory\n",
    "from langchain_openai import ChatOpenAI\n",
    "\n",
    "# Cargar las variables de entorno\n",
    "load_dotenv()\n",
    "\n",
    "# Inicializar el modelo\n",
    "model = ChatOpenAI(model='gpt-4o-mini')\n"
   ]
  },
  {
   "cell_type": "code",
   "execution_count": 4,
   "metadata": {},
   "outputs": [],
   "source": [
    "# Setup Firebase Firestore\n",
    "PROJECT_ID = \"langchain-curso\"\n",
    "SESSION_ID = \"user_session\"  # This could be a username or a unique ID\n",
    "COLLECTION_NAME = \"chat_history\""
   ]
  },
  {
   "cell_type": "code",
   "execution_count": 5,
   "metadata": {},
   "outputs": [
    {
     "name": "stdout",
     "output_type": "stream",
     "text": [
      "Initializing Firestore Client...\n",
      "Initializing Firestore Chat Message History...\n",
      "Chat History Initialized.\n",
      "Current Chat History: []\n"
     ]
    }
   ],
   "source": [
    "# Initialize Firestore Client\n",
    "print(\"Initializing Firestore Client...\")\n",
    "client = firestore.Client(project=PROJECT_ID)\n",
    "\n",
    "# Initialize Firestore Chat Message History\n",
    "print(\"Initializing Firestore Chat Message History...\")\n",
    "chat_history = FirestoreChatMessageHistory(\n",
    "    session_id=SESSION_ID,\n",
    "    collection=COLLECTION_NAME,\n",
    "    client=client,\n",
    ")\n",
    "print(\"Chat History Initialized.\")\n",
    "print(\"Current Chat History:\", chat_history.messages)"
   ]
  },
  {
   "cell_type": "code",
   "execution_count": 7,
   "metadata": {},
   "outputs": [
    {
     "name": "stdout",
     "output_type": "stream",
     "text": [
      "Start chatting with the AI. Type 'exit' to quit.\n",
      "AI: Sam Altman nació el 22 de abril de 1985 en St. Louis, Missouri. Estudió ciencias de la computación en la Universidad de Stanford, pero abandonó sus estudios para enfocarse en emprender. En 2014, se convirtió en presidente de Y Combinator, una posición que le ha permitido tener un gran impacto en la escena tecnológica y de startups en Silicon Valley.\n",
      "\n",
      "Altman es conocido por su visión futurista y su interés en la inteligencia artificial. Ha abogado por el desarrollo ético de la IA y ha participado en proyectos de investigación en el campo. Además, es un inversor activo y ha respaldado empresas como Airbnb, Dropbox, Reddit y Twitch.\n",
      "\n",
      "Altman también es reconocido por su filantropía y su apoyo a causas sociales. Ha donado grandes sumas de dinero a organizaciones benéficas y ha abogado por políticas progresistas en temas como la renta básica universal y la educación.\n",
      "\n",
      "En resumen, Sam Altman es una figura influyente en el mundo de la tecnología y los negocios, con una visión audaz y un compromiso con el avance de la sociedad a través de la innovación.\n"
     ]
    }
   ],
   "source": [
    "# Initialize Chat Model\n",
    "model = ChatOpenAI()\n",
    "\n",
    "print(\"Start chatting with the AI. Type 'exit' to quit.\")\n",
    "\n",
    "while True:\n",
    "    human_input = input(\"User: \")\n",
    "    if human_input.lower() == \"exit\":\n",
    "        break\n",
    "\n",
    "    chat_history.add_user_message(human_input)\n",
    "\n",
    "    ai_response = model.invoke(chat_history.messages)\n",
    "    chat_history.add_ai_message(ai_response.content)\n",
    "\n",
    "    print(f\"AI: {ai_response.content}\")"
   ]
  },
  {
   "cell_type": "code",
   "execution_count": null,
   "metadata": {},
   "outputs": [],
   "source": []
  }
 ],
 "metadata": {
  "kernelspec": {
   "display_name": "Curso_LC",
   "language": "python",
   "name": "python3"
  },
  "language_info": {
   "codemirror_mode": {
    "name": "ipython",
    "version": 3
   },
   "file_extension": ".py",
   "mimetype": "text/x-python",
   "name": "python",
   "nbconvert_exporter": "python",
   "pygments_lexer": "ipython3",
   "version": "3.12.7"
  }
 },
 "nbformat": 4,
 "nbformat_minor": 2
}
