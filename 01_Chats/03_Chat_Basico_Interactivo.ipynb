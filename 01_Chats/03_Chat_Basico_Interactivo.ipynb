{
 "cells": [
  {
   "cell_type": "code",
   "execution_count": 1,
   "metadata": {},
   "outputs": [],
   "source": [
    "from dotenv import load_dotenv\n",
    "from langchain_openai import ChatOpenAI\n",
    "from langchain.schema import AIMessage, HumanMessage, SystemMessage\n",
    "\n",
    "# Load environment variables from .env\n",
    "load_dotenv()\n",
    "\n",
    "# Create a ChatOpenAI model\n",
    "model = ChatOpenAI(model=\"gpt-4o-mini\")"
   ]
  },
  {
   "cell_type": "code",
   "execution_count": 2,
   "metadata": {},
   "outputs": [],
   "source": [
    "chat_history = []  # Use a list to store messages\n",
    "\n",
    "# Set an initial system message (optional)\n",
    "system_message = SystemMessage(content=\"You are a helpful AI assistant.\")\n",
    "chat_history.append(system_message)  # Add system message to chat history\n"
   ]
  },
  {
   "cell_type": "code",
   "execution_count": 4,
   "metadata": {},
   "outputs": [
    {
     "name": "stdout",
     "output_type": "stream",
     "text": [
      "AI: ¡Hola, Guillermo! Encantado de saludarte de nuevo. ¿En qué puedo ayudarte hoy?\n",
      "AI: No, no puedo buscar en internet en tiempo real. Sin embargo, puedo proporcionarte información y responder preguntas basándome en el conocimiento que tengo hasta octubre de 2023. Si tienes alguna pregunta o necesitas información sobre un tema específico, estaré encantado de ayudarte con lo que pueda.\n",
      "---- Message History ----\n",
      "[SystemMessage(content='You are a helpful AI assistant.', additional_kwargs={}, response_metadata={}), HumanMessage(content='hola, soy guillermo', additional_kwargs={}, response_metadata={}), AIMessage(content='¡Hola, Guillermo! ¿Cómo estás? ¿En qué puedo ayudarte hoy?', additional_kwargs={}, response_metadata={}), HumanMessage(content='', additional_kwargs={}, response_metadata={}), AIMessage(content='Parece que tu mensaje está en blanco. ¿Hay algo específico de lo que te gustaría hablar o alguna pregunta que tengas? Estoy aquí para ayudarte.', additional_kwargs={}, response_metadata={}), HumanMessage(content='hola, soy guillermo', additional_kwargs={}, response_metadata={}), AIMessage(content='¡Hola, Guillermo! Encantado de saludarte de nuevo. ¿En qué puedo ayudarte hoy?', additional_kwargs={}, response_metadata={}), HumanMessage(content='puedes buscar en internet?', additional_kwargs={}, response_metadata={}), AIMessage(content='No, no puedo buscar en internet en tiempo real. Sin embargo, puedo proporcionarte información y responder preguntas basándome en el conocimiento que tengo hasta octubre de 2023. Si tienes alguna pregunta o necesitas información sobre un tema específico, estaré encantado de ayudarte con lo que pueda.', additional_kwargs={}, response_metadata={})]\n"
     ]
    }
   ],
   "source": [
    "# Chat loop\n",
    "while True:\n",
    "    query = input(\"You: \")\n",
    "    if query.lower() == \"exit\":\n",
    "        break\n",
    "    chat_history.append(HumanMessage(content=query))  # Add user message\n",
    "\n",
    "    # Get AI response using history\n",
    "    result = model.invoke(chat_history)\n",
    "    response = result.content\n",
    "    chat_history.append(AIMessage(content=response))  # Add AI message\n",
    "\n",
    "    print(f\"AI: {response}\")\n",
    "\n",
    "\n",
    "print(\"---- Message History ----\")\n",
    "print(chat_history)"
   ]
  }
 ],
 "metadata": {
  "kernelspec": {
   "display_name": "Curso_LC",
   "language": "python",
   "name": "python3"
  },
  "language_info": {
   "codemirror_mode": {
    "name": "ipython",
    "version": 3
   },
   "file_extension": ".py",
   "mimetype": "text/x-python",
   "name": "python",
   "nbconvert_exporter": "python",
   "pygments_lexer": "ipython3",
   "version": "3.12.7"
  }
 },
 "nbformat": 4,
 "nbformat_minor": 2
}
