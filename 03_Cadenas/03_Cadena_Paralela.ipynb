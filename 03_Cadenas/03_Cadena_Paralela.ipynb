{
 "cells": [
  {
   "cell_type": "code",
   "execution_count": 1,
   "metadata": {},
   "outputs": [],
   "source": [
    "from dotenv import load_dotenv\n",
    "from langchain.prompts import ChatPromptTemplate\n",
    "from langchain.schema.output_parser import StrOutputParser\n",
    "from langchain.schema.runnable import RunnableParallel, RunnableLambda\n",
    "from langchain_openai import ChatOpenAI\n",
    "\n",
    "# Load environment variables from .env\n",
    "load_dotenv()\n",
    "\n",
    "# Create a ChatOpenAI model\n",
    "model = ChatOpenAI(model=\"gpt-4o-mini\")"
   ]
  },
  {
   "cell_type": "code",
   "execution_count": 2,
   "metadata": {},
   "outputs": [],
   "source": [
    "# Define la plantilla del prompt\n",
    "prompt_template = ChatPromptTemplate.from_messages(\n",
    "    [\n",
    "        (\"system\", \"Eres un experto en reseñas de productos.\"),\n",
    "        (\"human\", \"Enumera las principales características del producto {product_name}.\"),\n",
    "    ]\n",
    ")"
   ]
  },
  {
   "cell_type": "code",
   "execution_count": 3,
   "metadata": {},
   "outputs": [],
   "source": [
    "# Define el paso de análisis de pros\n",
    "def analizar_pros(caracteristicas):\n",
    "    plantilla_pros = ChatPromptTemplate.from_messages(\n",
    "        [\n",
    "            (\"system\", \"Eres un experto en reseñas de productos.\"),\n",
    "            (\n",
    "                \"human\",\n",
    "                \"Dadas estas características: {caracteristicas}, enumera los pros de estas características.\",\n",
    "            ),\n",
    "        ]\n",
    "    )\n",
    "    return plantilla_pros.format_prompt(caracteristicas=caracteristicas)\n",
    "\n",
    "\n",
    "# Define el paso de análisis de contras\n",
    "def analizar_contras(caracteristicas):\n",
    "    plantilla_contras = ChatPromptTemplate.from_messages(\n",
    "        [\n",
    "            (\"system\", \"Eres un experto en reseñas de productos.\"),\n",
    "            (\n",
    "                \"human\",\n",
    "                \"Dadas estas características: {caracteristicas}, enumera los contras de estas características.\",\n",
    "            ),\n",
    "        ]\n",
    "    )\n",
    "    return plantilla_contras.format_prompt(caracteristicas=caracteristicas)\n"
   ]
  },
  {
   "cell_type": "code",
   "execution_count": 4,
   "metadata": {},
   "outputs": [],
   "source": [
    "# Combine pros and cons into a final review\n",
    "def combine_pros_cons(pros, cons):\n",
    "    return f\"Pros:\\n{pros}\\n\\nCons:\\n{cons}\""
   ]
  },
  {
   "cell_type": "code",
   "execution_count": 5,
   "metadata": {},
   "outputs": [],
   "source": [
    "\n",
    "# Simplify branches with LCEL\n",
    "pros_branch_chain = (\n",
    "    RunnableLambda(lambda x: analizar_pros(x)) | model | StrOutputParser()\n",
    ")\n",
    "\n",
    "cons_branch_chain = (\n",
    "    RunnableLambda(lambda x: analizar_contras(x)) | model | StrOutputParser()\n",
    ")"
   ]
  },
  {
   "cell_type": "code",
   "execution_count": 6,
   "metadata": {},
   "outputs": [],
   "source": [
    "# Create the combined chain using LangChain Expression Language (LCEL)\n",
    "chain = (\n",
    "    prompt_template\n",
    "    | model\n",
    "    | StrOutputParser()\n",
    "    | RunnableParallel(branches={\"pros\": pros_branch_chain, \"cons\": cons_branch_chain})\n",
    "    | RunnableLambda(lambda x: combine_pros_cons(x[\"branches\"][\"pros\"], x[\"branches\"][\"cons\"]))\n",
    ")"
   ]
  },
  {
   "cell_type": "code",
   "execution_count": 7,
   "metadata": {},
   "outputs": [],
   "source": [
    "# Run the chain\n",
    "result = chain.invoke({\"product_name\": \"MacBook Pro\"})"
   ]
  },
  {
   "cell_type": "code",
   "execution_count": 8,
   "metadata": {},
   "outputs": [
    {
     "name": "stdout",
     "output_type": "stream",
     "text": [
      "Pros:\n",
      "Claro, aquí tienes una lista de los pros de las características del MacBook Pro:\n",
      "\n",
      "1. **Pantalla**: \n",
      "   - **Calidad visual excepcional**: La pantalla Retina con tecnología True Tone ofrece colores vibrantes y una claridad impresionante, ideal para diseño gráfico y edición de video.\n",
      "   - **Brillo y resolución**: Con hasta 500 nits de brillo y alta resolución, proporciona una experiencia visual óptima en diversas condiciones de iluminación.\n",
      "\n",
      "2. **Procesador**:\n",
      "   - **Rendimiento superior**: Los procesadores Apple Silicon proporcionan un rendimiento excepcional en tareas intensivas, como edición de video y desarrollo de software.\n",
      "   - **Eficiencia energética**: Los chipsets Apple son más eficientes, lo que contribuye a una mayor duración de la batería.\n",
      "\n",
      "3. **Memoria RAM**:\n",
      "   - **Capacidad expandible**: La opción de hasta 64 GB de RAM permite manejar múltiples aplicaciones y procesos exigentes simultáneamente sin comprometer el rendimiento.\n",
      "\n",
      "4. **Almacenamiento**:\n",
      "   - **Velocidad y capacidad**: Las unidades SSD ofrecen velocidades de lectura/escritura rápidas, lo que mejora el rendimiento general y reduce los tiempos de carga.\n",
      "\n",
      "5. **Gráficos**:\n",
      "   - **Rendimiento gráfico avanzado**: Los gráficos integrados y dedicados permiten una experiencia fluida en tareas de diseño, juegos y edición de contenido.\n",
      "\n",
      "6. **Teclado**:\n",
      "   - **Comodidad y precisión**: El Magic Keyboard con mecanismo de tijera proporciona una experiencia de escritura cómoda y precisa, mejorando la productividad.\n",
      "   - **Interacción intuitiva**: La Touch Bar (en modelos que la incluyen) permite accesos directos y funciones personalizables, optimizando el flujo de trabajo.\n",
      "\n",
      "7. **Conectividad**:\n",
      "   - **Versatilidad de puertos**: La inclusión de puertos Thunderbolt/USB 4 permite la conexión a una amplia variedad de dispositivos y periféricos de alta velocidad.\n",
      "   - **Conectividad avanzada**: Wi-Fi 6 y Bluetooth 5.0 ofrecen conexiones más rápidas y estables.\n",
      "\n",
      "8. **Batería**:\n",
      "   - **Duración excepcional**: La capacidad de superar las 20 horas de duración de la batería significa menos tiempo buscando un enchufe y más productividad en movimiento.\n",
      "\n",
      "9. **Sistema Operativo**:\n",
      "   - **Optimización y fluidez**: macOS proporciona una experiencia de usuario intuitiva, segura y fluida, ideal para profesionales y creativos.\n",
      "\n",
      "10. **Diseño**:\n",
      "    - **Estética y durabilidad**: El chasis de aluminio unibody no solo es atractivo, sino que también es resistente y ligero, lo que facilita la portabilidad.\n",
      "\n",
      "11. **Audio y Cámara**:\n",
      "    - **Sonido de alta calidad**: El sistema de altavoces y micrófonos de alta fidelidad permiten una experiencia multimedia inmersiva y clara en videoconferencias.\n",
      "    - **Cámara mejorada**: La cámara FaceTime HD ofrece mejor calidad de imagen en videollamadas, especialmente en modelos recientes.\n",
      "\n",
      "12. **Seguridad**:\n",
      "    - **Protección avanzada**: El chip de seguridad T2 y las tecnologías integradas en los modelos con Apple Silicon brindan una mayor protección de datos y seguridad en el sistema.\n",
      "\n",
      "En resumen, el MacBook Pro combina características avanzadas de hardware y software que lo convierten en una opción excelente para profesionales creativos y usuarios exigentes. Su diseño, rendimiento y funcionalidad se adaptan a una amplia gama de necesidades.\n",
      "\n",
      "Cons:\n",
      "Claro, aquí tienes una lista de los posibles contras de las características del MacBook Pro, teniendo en cuenta que pueden variar según el modelo y el año de lanzamiento:\n",
      "\n",
      "1. **Pantalla**:\n",
      "   - A pesar de la alta resolución y el brillo, la pantalla puede ser reflectante en ambientes muy iluminados, lo que puede dificultar la visualización.\n",
      "   - La falta de opciones de pantalla táctil, que algunos usuarios pueden preferir.\n",
      "\n",
      "2. **Procesador**:\n",
      "   - Los modelos más antiguos con procesadores Intel pueden no recibir actualizaciones de software tan pronto como los modelos con Apple Silicon.\n",
      "   - La transición a Apple Silicon puede causar problemas de compatibilidad con algunas aplicaciones más antiguas.\n",
      "\n",
      "3. **Memoria RAM**:\n",
      "   - La RAM no es actualizable, lo que significa que los usuarios deben elegir cuidadosamente la configuración al momento de la compra.\n",
      "\n",
      "4. **Almacenamiento**:\n",
      "   - Los precios de las opciones de almacenamiento más altas pueden ser exorbitantes.\n",
      "   - La falta de ranuras para tarjetas SD o puertos USB-A en los modelos más recientes puede resultar inconveniente para algunos usuarios.\n",
      "\n",
      "5. **Gráficos**:\n",
      "   - Los gráficos integrados en modelos con Apple Silicon, aunque potentes, pueden no ser suficientes para usuarios que necesiten rendimiento extremo en gráficos 3D o edición de video profesional.\n",
      "\n",
      "6. **Teclado**:\n",
      "   - Aunque el Magic Keyboard es apreciado, algunos usuarios pueden preferir un teclado mecánico o tener problemas con el diseño de las teclas.\n",
      "   - La eliminación de la Touch Bar en versiones más recientes puede decepcionar a los usuarios que la utilizaban.\n",
      "\n",
      "7. **Conectividad**:\n",
      "   - La dependencia de Thunderbolt/USB-C puede ser un inconveniente para quienes utilizan dispositivos más antiguos que requieren adaptadores.\n",
      "   - La cantidad limitada de puertos puede no ser suficiente para ciertos flujos de trabajo.\n",
      "\n",
      "8. **Batería**:\n",
      "   - La duración de la batería puede variar significativamente según el uso, y algunos usuarios pueden experimentar una duración menor bajo carga intensa.\n",
      "   - Aunque la duración es impresionante, la batería es no reemplazable por el usuario, lo que puede ser un problema a largo plazo.\n",
      "\n",
      "9. **Sistema Operativo**:\n",
      "   - macOS puede no ser compatible con ciertos programas o juegos que son más comunes en Windows, lo que puede ser un obstáculo para algunos usuarios.\n",
      "   - La curva de aprendizaje para nuevos usuarios que vienen de otros sistemas operativos puede ser un desafío.\n",
      "\n",
      "10. **Diseño**:\n",
      "    - Aunque el diseño es estéticamente agradable, el chasis de aluminio puede ser susceptible a abolladuras y rayones.\n",
      "    - La falta de opciones de personalización de color en algunos modelos puede ser un inconveniente para los usuarios que buscan un estilo único.\n",
      "\n",
      "11. **Audio y Cámara**:\n",
      "    - Aunque el audio es de alta calidad, los altavoces pueden no ser tan potentes como los de algunos modelos de la competencia.\n",
      "    - La cámara FaceTime HD, aunque mejorada, sigue siendo inferior a muchas cámaras web externas en términos de calidad de imagen.\n",
      "\n",
      "12. **Seguridad**:\n",
      "    - Aunque el chip de seguridad T2 y la tecnología integrada son avanzados, pueden hacer que algunos usuarios se sientan limitados en la personalización del sistema.\n",
      "    - La seguridad adicional puede causar complicaciones con la instalación de software no autorizado.\n",
      "\n",
      "Estos contras son consideraciones importantes que los usuarios deben tener en cuenta al evaluar si el MacBook Pro es adecuado para sus necesidades específicas.\n"
     ]
    }
   ],
   "source": [
    "# Output\n",
    "print(result)"
   ]
  },
  {
   "cell_type": "code",
   "execution_count": null,
   "metadata": {},
   "outputs": [],
   "source": []
  }
 ],
 "metadata": {
  "kernelspec": {
   "display_name": "Curso_LC",
   "language": "python",
   "name": "python3"
  },
  "language_info": {
   "codemirror_mode": {
    "name": "ipython",
    "version": 3
   },
   "file_extension": ".py",
   "mimetype": "text/x-python",
   "name": "python",
   "nbconvert_exporter": "python",
   "pygments_lexer": "ipython3",
   "version": "3.12.7"
  }
 },
 "nbformat": 4,
 "nbformat_minor": 2
}
