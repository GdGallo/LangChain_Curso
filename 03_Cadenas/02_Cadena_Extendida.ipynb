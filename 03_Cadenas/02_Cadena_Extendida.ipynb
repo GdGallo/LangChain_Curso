{
 "cells": [
  {
   "cell_type": "code",
   "execution_count": 1,
   "metadata": {},
   "outputs": [],
   "source": [
    "from dotenv import load_dotenv\n",
    "from langchain.prompts import ChatPromptTemplate\n",
    "from langchain.schema.output_parser import StrOutputParser\n",
    "from langchain.schema.runnable import RunnableLambda\n",
    "from langchain_openai import ChatOpenAI\n",
    "\n",
    "# Load environment variables from .env\n",
    "load_dotenv()\n",
    "\n",
    "# Create a ChatOpenAI model\n",
    "model = ChatOpenAI(model=\"gpt-4o-mini\")"
   ]
  },
  {
   "cell_type": "code",
   "execution_count": 2,
   "metadata": {},
   "outputs": [],
   "source": [
    "# Define prompt templates (no need for separate Runnable chains)\n",
    "prompt_template = ChatPromptTemplate.from_messages(\n",
    "    [\n",
    "        (\"system\", \"Eres el mejor comediante de todos sobre {topic}.\"),\n",
    "        (\"human\", \"Cuentame {joke_count} chistes.\"),\n",
    "    ]\n",
    ")"
   ]
  },
  {
   "cell_type": "code",
   "execution_count": 3,
   "metadata": {},
   "outputs": [],
   "source": [
    "# Define additional processing steps using RunnableLambda\n",
    "uppercase_output = RunnableLambda(lambda x: x.upper())\n",
    "count_words = RunnableLambda(lambda x: f\"Word count: {len(x.split())}\\n{x}\")"
   ]
  },
  {
   "cell_type": "code",
   "execution_count": 4,
   "metadata": {},
   "outputs": [],
   "source": [
    "# Create the combined chain using LangChain Expression Language (LCEL)\n",
    "chain = prompt_template | model | StrOutputParser() | uppercase_output | count_words"
   ]
  },
  {
   "cell_type": "code",
   "execution_count": 5,
   "metadata": {},
   "outputs": [],
   "source": [
    "# Run the chain\n",
    "result = chain.invoke({\"topic\": \"marihuanos\", \"joke_count\": 3})"
   ]
  },
  {
   "cell_type": "code",
   "execution_count": 6,
   "metadata": {},
   "outputs": [
    {
     "name": "stdout",
     "output_type": "stream",
     "text": [
      "Word count: 78\n",
      "¡CLARO! AQUÍ VAN TRES CHISTES SOBRE MARIHUANOS:\n",
      "\n",
      "1. ¿POR QUÉ EL MARIHUANO SIEMPRE LLEVA UNA ESCOBA?\n",
      "   PORQUE ESCUCHÓ QUE IBA A BARRER EN EL CONCURSO DE \"MEJORES IDEAS\" Y NO QUERÍA PERDERSE LA OPORTUNIDAD.\n",
      "\n",
      "2. ¿QUÉ LE DICE UN MARIHUANO A OTRO EN UNA CARRERA?\n",
      "   ¡CORRE MÁS LENTO, QUE SI LLEGAMOS JUNTOS NOS DESCALIFICAN!\n",
      "\n",
      "3. ¿CÓMO SE LLAMA EL CLUB DE LOS MARIHUANOS?\n",
      "   \"LOS QUE LLEGAN TARDE, PERO ¡CON MUCHO ESTILO!\"\n",
      "\n",
      "¡ESPERO QUE TE HAYAN SACADO UNA SONRISA!\n"
     ]
    }
   ],
   "source": [
    "# Output\n",
    "print(result)"
   ]
  },
  {
   "cell_type": "code",
   "execution_count": null,
   "metadata": {},
   "outputs": [],
   "source": []
  }
 ],
 "metadata": {
  "kernelspec": {
   "display_name": "Curso_LC",
   "language": "python",
   "name": "python3"
  },
  "language_info": {
   "codemirror_mode": {
    "name": "ipython",
    "version": 3
   },
   "file_extension": ".py",
   "mimetype": "text/x-python",
   "name": "python",
   "nbconvert_exporter": "python",
   "pygments_lexer": "ipython3",
   "version": "3.12.7"
  }
 },
 "nbformat": 4,
 "nbformat_minor": 2
}
