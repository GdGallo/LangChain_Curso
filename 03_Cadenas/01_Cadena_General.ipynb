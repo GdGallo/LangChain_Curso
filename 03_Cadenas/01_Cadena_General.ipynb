{
 "cells": [
  {
   "cell_type": "code",
   "execution_count": 1,
   "metadata": {},
   "outputs": [],
   "source": [
    "from dotenv import load_dotenv\n",
    "from langchain.prompts import ChatPromptTemplate\n",
    "from langchain.schema.runnable import RunnableLambda, RunnableSequence\n",
    "from langchain_openai import ChatOpenAI\n",
    "\n",
    "# Load environment variables from .env\n",
    "load_dotenv()\n",
    "\n",
    "# Create a ChatOpenAI model\n",
    "model = ChatOpenAI(model=\"gpt-4o-mini\")"
   ]
  },
  {
   "cell_type": "code",
   "execution_count": 2,
   "metadata": {},
   "outputs": [],
   "source": [
    "# Define prompt templates (no need for separate Runnable chains)\n",
    "prompt_template = ChatPromptTemplate.from_messages(\n",
    "    [\n",
    "        (\"system\", \"Eres el mejor comediante de todos sobre {topic}.\"),\n",
    "        (\"human\", \"Cuentame {joke_count} chistes.\"),\n",
    "    ]\n",
    ")"
   ]
  },
  {
   "cell_type": "code",
   "execution_count": 3,
   "metadata": {},
   "outputs": [],
   "source": [
    "# Create individual runnables (steps in the chain)\n",
    "format_prompt = RunnableLambda(lambda x: prompt_template.format_prompt(**x))\n",
    "invoke_model = RunnableLambda(lambda x: model.invoke(x.to_messages()))\n",
    "parse_output = RunnableLambda(lambda x: x.content)\n"
   ]
  },
  {
   "cell_type": "code",
   "execution_count": 4,
   "metadata": {},
   "outputs": [],
   "source": [
    "# Create the RunnableSequence (equivalent to the LCEL chain)\n",
    "chain = RunnableSequence(first=format_prompt, middle=[invoke_model], last=parse_output)"
   ]
  },
  {
   "cell_type": "code",
   "execution_count": 7,
   "metadata": {},
   "outputs": [],
   "source": [
    "# Run the chain\n",
    "response = chain.invoke({\"topic\": \"marihuanos\", \"joke_count\": 3})\n"
   ]
  },
  {
   "cell_type": "code",
   "execution_count": 8,
   "metadata": {},
   "outputs": [
    {
     "name": "stdout",
     "output_type": "stream",
     "text": [
      "¡Claro! Aquí van tres chistes sobre marihuanos:\n",
      "\n",
      "1. ¿Por qué el marihuano nunca juega a escondidas?\n",
      "   Porque siempre se olvida de que está jugando... ¡y se queda ahí, escondido, pensando en la vida!\n",
      "\n",
      "2. ¿Qué le dice un marihuano a otro cuando le preguntan qué hace?\n",
      "   \"Estoy buscando el sentido de la vida… pero no sé si es antes o después de la pizza.\"\n",
      "\n",
      "3. ¿Por qué el marihuano no usa reloj?\n",
      "   Porque siempre dice: \"La hora es cuando el cuerpo lo siente... y yo lo siento ahora, ¡o quizás más tarde!\"\n",
      "\n",
      "¡Espero que te hayan sacado una sonrisa!\n"
     ]
    }
   ],
   "source": [
    "\n",
    "# Output\n",
    "print(response)"
   ]
  }
 ],
 "metadata": {
  "kernelspec": {
   "display_name": "Curso_LC",
   "language": "python",
   "name": "python3"
  },
  "language_info": {
   "codemirror_mode": {
    "name": "ipython",
    "version": 3
   },
   "file_extension": ".py",
   "mimetype": "text/x-python",
   "name": "python",
   "nbconvert_exporter": "python",
   "pygments_lexer": "ipython3",
   "version": "3.12.7"
  }
 },
 "nbformat": 4,
 "nbformat_minor": 2
}
