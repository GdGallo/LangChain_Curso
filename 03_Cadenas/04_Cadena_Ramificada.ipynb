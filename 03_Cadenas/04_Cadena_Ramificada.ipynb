{
 "cells": [
  {
   "cell_type": "code",
   "execution_count": 1,
   "metadata": {},
   "outputs": [],
   "source": [
    "from dotenv import load_dotenv\n",
    "from langchain.prompts import ChatPromptTemplate\n",
    "from langchain.schema.output_parser import StrOutputParser\n",
    "from langchain.schema.runnable import RunnableBranch\n",
    "from langchain_openai import ChatOpenAI\n",
    "\n",
    "# Load environment variables from .env\n",
    "load_dotenv()\n",
    "\n",
    "# Create a ChatOpenAI model\n",
    "model = ChatOpenAI(model=\"gpt-4o-mini\")"
   ]
  },
  {
   "cell_type": "code",
   "execution_count": 2,
   "metadata": {},
   "outputs": [],
   "source": [
    "# Define plantillas de prompt para diferentes tipos de retroalimentación\n",
    "plantilla_retroalimentacion_positiva = ChatPromptTemplate.from_messages(\n",
    "    [\n",
    "        (\"system\", \"Eres un asistente servicial.\"),\n",
    "        (\"human\",\n",
    "         \"Genera una nota de agradecimiento para esta retroalimentación positiva: {retroalimentacion}.\"),\n",
    "    ]\n",
    ")\n",
    "\n",
    "plantilla_retroalimentacion_negativa = ChatPromptTemplate.from_messages(\n",
    "    [\n",
    "        (\"system\", \"Eres un asistente servicial.\"),\n",
    "        (\"human\",\n",
    "         \"Genera una respuesta que aborde esta retroalimentación negativa: {retroalimentacion}.\"),\n",
    "    ]\n",
    ")\n",
    "\n",
    "plantilla_retroalimentacion_neutral = ChatPromptTemplate.from_messages(\n",
    "    [\n",
    "        (\"system\", \"Eres un asistente servicial.\"),\n",
    "        (\n",
    "            \"human\",\n",
    "            \"Genera una solicitud de más detalles para esta retroalimentación neutral: {retroalimentacion}.\",\n",
    "        ),\n",
    "    ]\n",
    ")\n",
    "\n",
    "plantilla_escalar_retroalimentacion = ChatPromptTemplate.from_messages(\n",
    "    [\n",
    "        (\"system\", \"Eres un asistente servicial.\"),\n",
    "        (\n",
    "            \"human\",\n",
    "            \"Genera un mensaje para escalar esta retroalimentación a un agente humano: {retroalimentacion}.\",\n",
    "        ),\n",
    "    ]\n",
    ")"
   ]
  },
  {
   "cell_type": "code",
   "execution_count": 3,
   "metadata": {},
   "outputs": [],
   "source": [
    "# Define la plantilla de clasificación de retroalimentación\n",
    "plantilla_clasificacion = ChatPromptTemplate.from_messages(\n",
    "    [\n",
    "        (\"system\", \"Eres un asistente servicial.\"),\n",
    "        (\"human\",\n",
    "         \"Clasifica el sentimiento de esta retroalimentación como positiva, negativa, neutral o escalar: {retroalimentacion}.\"),\n",
    "    ]\n",
    ")\n"
   ]
  },
  {
   "cell_type": "code",
   "execution_count": 6,
   "metadata": {},
   "outputs": [],
   "source": [
    "# Define the runnable branches for handling feedback\n",
    "branches = RunnableBranch(\n",
    "    (\n",
    "        lambda x: \"positive\" in x,\n",
    "        plantilla_retroalimentacion_positiva | model | StrOutputParser()  # Positive feedback chain\n",
    "    ),\n",
    "    (\n",
    "        lambda x: \"negative\" in x,\n",
    "        plantilla_retroalimentacion_negativa| model | StrOutputParser()  # Negative feedback chain\n",
    "    ),\n",
    "    (\n",
    "        lambda x: \"neutral\" in x,\n",
    "        plantilla_retroalimentacion_neutral | model | StrOutputParser()  # Neutral feedback chain\n",
    "    ),\n",
    "    plantilla_escalar_retroalimentacion | model | StrOutputParser()\n",
    ")"
   ]
  },
  {
   "cell_type": "code",
   "execution_count": 7,
   "metadata": {},
   "outputs": [],
   "source": [
    "# Create the classification chain\n",
    "classification_chain = plantilla_clasificacion | model | StrOutputParser()"
   ]
  },
  {
   "cell_type": "code",
   "execution_count": 8,
   "metadata": {},
   "outputs": [],
   "source": [
    "# Combine classification and response generation into one chain\n",
    "chain = classification_chain | branches"
   ]
  },
  {
   "cell_type": "code",
   "execution_count": 10,
   "metadata": {},
   "outputs": [
    {
     "name": "stdout",
     "output_type": "stream",
     "text": [
      "Asunto: Escalación de Retroalimentación Negativa\n",
      "\n",
      "Hola [Nombre del Agente o Equipo],\n",
      "\n",
      "Espero que te encuentres bien. Quiero hacerte llegar una retroalimentación que hemos recibido recientemente, la cual tiene un sentimiento negativo. Es importante que la revisemos para entender mejor las preocupaciones del cliente y buscar una solución adecuada.\n",
      "\n",
      "Detalles de la retroalimentación:\n",
      "- [Incluir breve descripción de la retroalimentación o el problema mencionado]\n",
      "\n",
      "Te agradecería que le des prioridad a este asunto y lo analices para poder tomar las acciones necesarias. Si necesitas más información o contexto, no dudes en decírmelo.\n",
      "\n",
      "Gracias por tu atención a este tema.\n",
      "\n",
      "Saludos,\n",
      "[Tu Nombre]  \n",
      "[Tu Puesto]  \n",
      "[Tu Información de Contacto]  \n"
     ]
    }
   ],
   "source": [
    "reseña = \"El producto es terrible. Se rompió después de un solo uso y la calidad es muy mala.\"\n",
    "resultado = chain.invoke({\"retroalimentacion\": reseña})\n",
    "\n",
    "# Imprimir el resultado\n",
    "print(resultado)\n"
   ]
  },
  {
   "cell_type": "code",
   "execution_count": 11,
   "metadata": {},
   "outputs": [
    {
     "name": "stdout",
     "output_type": "stream",
     "text": [
      "Asunto: Escalación de retroalimentación positiva\n",
      "\n",
      "Hola [Nombre del agente humano o equipo],\n",
      "\n",
      "Espero que te encuentres bien. Quiero escalar una retroalimentación que he recibido, la cual se clasifica como **positiva**. \n",
      "\n",
      "[Incluir detalles específicos sobre la retroalimentación, como quién la dio, qué aspectos fueron destacados, etc. Esto ayudará a brindar contexto y a resaltar la importancia de la retroalimentación.]\n",
      "\n",
      "Creo que es importante reconocer este tipo de comentarios y considerar cómo podemos seguir mejorando a partir de ellos. \n",
      "\n",
      "Gracias por tu atención y quedo a tu disposición para cualquier pregunta.\n",
      "\n",
      "Saludos,  \n",
      "[Tu nombre]  \n",
      "[Tu posición]  \n",
      "[Tu contacto]  \n"
     ]
    }
   ],
   "source": [
    "reseña = \"El producto es excelente. Disfruté mucho usarlo y lo encontré muy útil.\"\n",
    "resultado = chain.invoke({\"retroalimentacion\": reseña})\n",
    "\n",
    "# Imprimir el resultado\n",
    "print(resultado)"
   ]
  },
  {
   "cell_type": "code",
   "execution_count": 12,
   "metadata": {},
   "outputs": [
    {
     "name": "stdout",
     "output_type": "stream",
     "text": [
      "Asunto: Solicitud de Más Detalles sobre su Retroalimentación\n",
      "\n",
      "Estimado/a [Nombre del Cliente],\n",
      "\n",
      "Gracias por tomarse el tiempo de compartir su opinión sobre nuestro producto. Valoramos mucho sus comentarios y queremos asegurarnos de que podamos seguir mejorando.\n",
      "\n",
      "Hemos notado que su retroalimentación se clasifica como neutral. Apreciamos que haya mencionado que el producto funciona como se espera, pero también nos gustaría entender mejor su comentario sobre que no es nada excepcional. \n",
      "\n",
      "Para poder ofrecerle una experiencia más satisfactoria, ¿podría proporcionarnos más detalles sobre los aspectos que considera que podrían mejorarse? Cualquier información adicional que pueda compartir nos ayudará a identificar áreas clave para el desarrollo futuro de nuestros productos.\n",
      "\n",
      "Agradecemos su colaboración y su interés en ayudarnos a mejorar.\n",
      "\n",
      "Atentamente,\n",
      "\n",
      "[Tu Nombre]  \n",
      "[Tu Puesto]  \n",
      "[Tu Empresa]  \n",
      "[Tu Información de Contacto]\n"
     ]
    }
   ],
   "source": [
    "reseña = \"El producto está bien. Funciona como se espera, pero no es nada excepcional.\"\n",
    "resultado = chain.invoke({\"retroalimentacion\": reseña})\n",
    "\n",
    "# Imprimir el resultado\n",
    "print(resultado)\n"
   ]
  },
  {
   "cell_type": "code",
   "execution_count": 13,
   "metadata": {},
   "outputs": [
    {
     "name": "stdout",
     "output_type": "stream",
     "text": [
      "Asunto: Solicitud de Más Detalles sobre la Retroalimentación Recibida\n",
      "\n",
      "Estimado/a [Nombre del remitente],\n",
      "\n",
      "Espero que te encuentres bien. He recibido tu retroalimentación y agradezco que te hayas tomado el tiempo para compartir tus pensamientos. Sin embargo, he notado que tu comentario se clasifica como neutral y expresa cierta incertidumbre.\n",
      "\n",
      "Para poder comprender mejor tu perspectiva y abordar cualquier inquietud que puedas tener, me gustaría solicitar más detalles sobre los puntos específicos que consideras relevantes. ¿Podrías ampliar sobre las áreas donde sientes que se necesita más información o aclaración? Esto me ayudará a ofrecerte una respuesta más completa y a mejorar en los aspectos que mencionas.\n",
      "\n",
      "Agradezco de antemano tu colaboración y espero tu respuesta.\n",
      "\n",
      "Saludos cordiales,\n",
      "\n",
      "[Tu nombre]  \n",
      "[Tu cargo]  \n",
      "[Tu información de contacto]  \n"
     ]
    }
   ],
   "source": [
    "reseña = \"No estoy seguro sobre el producto todavía. ¿Puedes decirme más sobre sus características y beneficios?\"\n",
    "resultado = chain.invoke({\"retroalimentacion\": reseña})\n",
    "\n",
    "# Imprimir el resultado\n",
    "print(resultado)"
   ]
  },
  {
   "cell_type": "code",
   "execution_count": null,
   "metadata": {},
   "outputs": [],
   "source": []
  }
 ],
 "metadata": {
  "kernelspec": {
   "display_name": "Curso_LC",
   "language": "python",
   "name": "python3"
  },
  "language_info": {
   "codemirror_mode": {
    "name": "ipython",
    "version": 3
   },
   "file_extension": ".py",
   "mimetype": "text/x-python",
   "name": "python",
   "nbconvert_exporter": "python",
   "pygments_lexer": "ipython3",
   "version": "3.12.7"
  }
 },
 "nbformat": 4,
 "nbformat_minor": 2
}
