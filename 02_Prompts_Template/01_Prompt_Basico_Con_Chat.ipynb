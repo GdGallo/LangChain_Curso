{
 "cells": [
  {
   "cell_type": "code",
   "execution_count": 1,
   "metadata": {},
   "outputs": [],
   "source": [
    "from dotenv import load_dotenv\n",
    "from langchain.prompts import ChatPromptTemplate\n",
    "from langchain_openai import ChatOpenAI\n",
    "\n",
    "# Load environment variables from .env\n",
    "load_dotenv()\n",
    "\n",
    "# Create a ChatOpenAI model\n",
    "model = ChatOpenAI(model=\"gpt-4o-mini\")"
   ]
  },
  {
   "cell_type": "code",
   "execution_count": 2,
   "metadata": {},
   "outputs": [
    {
     "name": "stdout",
     "output_type": "stream",
     "text": [
      "-----Prompt from Template-----\n",
      "¡Claro! Aquí tienes uno:\n",
      "\n",
      "¿Por qué los gatos siempre ganan en el juego de las escondidas?\n",
      "\n",
      "¡Porque siempre están en modo \"gato ninja\"! 🐾😸\n"
     ]
    }
   ],
   "source": [
    "# PART 1: Create a ChatPromptTemplate using a template string\n",
    "print(\"-----Prompt from Template-----\")\n",
    "template = \"Cuentame un chiste {topic}.\"\n",
    "prompt_template = ChatPromptTemplate.from_template(template)\n",
    "\n",
    "prompt = prompt_template.invoke({\"topic\": \"gatos\"})\n",
    "result = model.invoke(prompt)\n",
    "print(result.content)"
   ]
  },
  {
   "cell_type": "code",
   "execution_count": 3,
   "metadata": {},
   "outputs": [
    {
     "name": "stdout",
     "output_type": "stream",
     "text": [
      "\n",
      "----- Prompt with Multiple Placeholders -----\n",
      "\n",
      "¡Claro! Aquí tienes algunas divertidas historias cortas sobre pandas:\n",
      "\n",
      "1. **El panda artista**: Un panda llamado Pipo decidió que quería ser artista. Un día, tomó un montón de bambú y lo utilizó como pinceles. Empezó a pintar en un gran lienzo blanco que encontró en el bosque. Cuando sus amigos pandas vinieron a verlo, se quedaron asombrados. ¡Era un desastre total! Pero Pipo se lo tomó con humor y dijo: \"¡Es arte abstracto! ¡Se llama 'Bambú en caos'!\" Desde ese día, todos los pandas lo llamaron el \"Picasso del bosque\".\n",
      "\n",
      "2. **El panda que quería volar**: Un panda soñador llamado Pandy quería volar como los pájaros. Así que un día, decidió hacer alas con hojas de bambú y se subió a la cima de una colina. Se lanzó al vacío y, por supuesto, no voló, sino que aterrizó suavemente en un arbusto de bambú. Cuando sus amigos le preguntaron qué había pasado, él respondió: \"¡He inventado el vuelo de los pandas! Es un aterrizaje suave y elegante\".\n",
      "\n",
      "3. **La carrera de pandas**: En la selva, los pandas decidieron organizar una carrera. Todos estaban emocionados, pero Pandi, el más perezoso de todos, se quedó dormido justo antes de la carrera. Cuando despertó, todos los pandas ya habían corrido. Sin embargo, Pandi se levantó y, con su mejor cara de \"yo también corrí\", caminó hasta la línea de meta. Cuando llegó, todos lo vitorearon. Él sonrió y dijo: “¿Vieron? ¡He ganado el premio a la constancia!”\n",
      "\n",
      "4. **El panda detective**: Un panda llamado Sherlock Panda se convirtió en el mejor detective de su bosque. Un día, se enteró de que un grupo de bambú había desaparecido misteriosamente. Con su lupa de bambú, empezó a investigar. Después de un rato, se dio cuenta de que había estado comiendo el bambú mientras pensaba en el misterio. Con una sonrisa traviesa, dijo: \"¡Caso cerrado! El culpable soy yo\". Y se puso a reír mientras disfrutaba de su delicioso banquete.\n",
      "\n",
      "Espero que estas historias te hayan sacado una sonrisa. ¡Los pandas son realmente adorables y divertidos!\n"
     ]
    }
   ],
   "source": [
    "# PART 2: Prompt with Multiple Placeholders\n",
    "print(\"\\n----- Prompt with Multiple Placeholders -----\\n\")\n",
    "template_multiple = \"\"\"Eres un poderoso asistente.\n",
    "Human: Cuentame {adjective} historias cortas sobre {animal}.\n",
    "Assistant:\"\"\"\n",
    "prompt_multiple = ChatPromptTemplate.from_template(template_multiple)\n",
    "prompt = prompt_multiple.invoke({\"adjective\": \"divertidas\", \"animal\": \"pandas\"})\n",
    "\n",
    "result = model.invoke(prompt)\n",
    "print(result.content)\n"
   ]
  },
  {
   "cell_type": "code",
   "execution_count": 4,
   "metadata": {},
   "outputs": [
    {
     "name": "stdout",
     "output_type": "stream",
     "text": [
      "\n",
      "----- Prompt with System and Human Messages (Tuple) -----\n",
      "\n",
      "¡Claro! Aquí van tres chistes de abogados:\n",
      "\n",
      "1. ¿Por qué los abogados no pueden jugar al escondite?\n",
      "   Porque cada vez que alguien grita \"¡Te encontré!\", ellos responden \"¡No, no, no! ¡Eso es una violación de los derechos de privacidad!\"\n",
      "\n",
      "2. ¿Cómo se llama un abogado que no sabe defender?\n",
      "   ¡Un \"aboga-no\"!\n",
      "\n",
      "3. ¿Por qué los abogados siempre llevan una escalera?\n",
      "   Porque quieren alcanzar nuevas alturas en su carrera... ¡y también porque siempre están buscando un \"caso\" más alto!\n",
      "\n",
      "Espero que te hayan sacado una sonrisa. ¡Si quieres más, solo dímelo!\n"
     ]
    }
   ],
   "source": [
    "# PART 3: Prompt with System and Human Messages (Using Tuples)\n",
    "print(\"\\n----- Prompt with System and Human Messages (Tuple) -----\\n\")\n",
    "messages = [\n",
    "    (\"system\", \"Eres el mejor comediante sobre chiste de {topic}.\"),\n",
    "    (\"human\", \"Cuentame {joke_count} chistes.\"),\n",
    "]\n",
    "prompt_template = ChatPromptTemplate.from_messages(messages)\n",
    "prompt = prompt_template.invoke({\"topic\": \"abogados\", \"joke_count\": 3})\n",
    "result = model.invoke(prompt)\n",
    "print(result.content)"
   ]
  }
 ],
 "metadata": {
  "kernelspec": {
   "display_name": "Curso_LC",
   "language": "python",
   "name": "python3"
  },
  "language_info": {
   "codemirror_mode": {
    "name": "ipython",
    "version": 3
   },
   "file_extension": ".py",
   "mimetype": "text/x-python",
   "name": "python",
   "nbconvert_exporter": "python",
   "pygments_lexer": "ipython3",
   "version": "3.12.7"
  }
 },
 "nbformat": 4,
 "nbformat_minor": 2
}
